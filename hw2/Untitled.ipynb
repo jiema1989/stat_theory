{
 "cells": [
  {
   "cell_type": "markdown",
   "metadata": {},
   "source": [
    "#                                       Math Statistics Homework 2\n",
    "##                                                                    Jie Ma"
   ]
  },
  {
   "cell_type": "markdown",
   "metadata": {},
   "source": [
    "Problem 2 (Exercise 9.2) Consider $X_{i+1}-\\mu = \\rho(X_{i}-\\mu)+\\sigma Z_{i}$, where $Z_{i}$ are iid standard normals. Find the limiting distribution of $\\bar{X}$ if $|\\rho|<1$."
   ]
  },
  {
   "cell_type": "markdown",
   "metadata": {},
   "source": [
    "Solution: let $X_{i}-\\mu:=a_{i}.$ By direct sbusituting iteration, we find that \n",
    "\\begin{align*} a_{i+1} = \\sigma \\sum_{n=0}^{+\\infty} \\rho^{n}Z_{i-n}.\\end{align*}"
   ]
  },
  {
   "cell_type": "markdown",
   "metadata": {},
   "source": [
    "Hence, taking expected values, we have that \n",
    "\\begin{align*}E(X_{i}) = \\mu,\\end{align*} for all $i$. "
   ]
  },
  {
   "cell_type": "markdown",
   "metadata": {},
   "source": [
    "It follows directly that $\\mathbb{E}(\\bar{X}) = \\mu$. We now compute variance. It is not hard to conclude that for any pair of integers $m$ and $n$, the covaraince between $x_{m}$ and $x_{n}$ is \n",
    "\\begin{align*} cov(x_{m},x_{n}) = \\sigma^{2}\\rho^{m-n}\\frac{1}{1-\\rho^{2}},\\end{align*}\n",
    "assuming $m>n$. "
   ]
  },
  {
   "cell_type": "markdown",
   "metadata": {},
   "source": [
    "Let $\\bar{X} = \\frac{1}{k}\\sum_{j=1}^{k}X_{j}$. It follows that \n",
    "\\begin{align*} var(\\bar{X}) & = var(\\frac{1}{k} \\sum_{k=1}^{k}X_{j})\n",
    "\\\\ & =  \\frac{1}{k^{2}}\\left(\\sum_{j=1}^{k}var(X_{j})+2\\sum_{i\\neq j} cov(X_{i},X_{j})\\right)\n",
    "\\\\ & = \\frac{\\sigma^{2}}{k^{2}(1-\\rho^{2})}\\left(k + 2\\sum_{i>j} \\rho^{i-j}\\right)\n",
    "\\\\ & = \\frac{\\sigma^{2}}{k^{2}(1-\\rho^{2})}\\left[k+2\\sum_{j=1}^{k-1}j\\rho^{k-j}\\right]\n",
    "\\\\ &  = \\frac{\\sigma^{2}}{k^{2}(1-\\rho^{2})}\\left[k + 2\\left((k+1)\\frac{1}{\\rho} - \\frac{2\\rho-\\rho^{2}}{(1-\\rho)^{2}}\\right)\\right],\\end{align*} where we omit higher order $\\rho^{n}$ from the last expression for the last term, since in computing limiting distribution, that term can eventually be ignored. Now it follows that "
   ]
  },
  {
   "cell_type": "markdown",
   "metadata": {},
   "source": [
    "\\begin{align*} \\sqrt{k}\\cdot var(\\bar{X}-\\mu) \\to \\frac{\\sigma^{2}}{1-\\rho^{2}}\\left[1+\\frac{2}{\\rho}\\right].\\end{align*}"
   ]
  },
  {
   "cell_type": "markdown",
   "metadata": {
    "collapsed": true
   },
   "source": [
    " Problem 3. (Exercise 12.1) for n = 25 and 50, estimate $P(max_{1\\leq k\\leq n} S_{k} > 2\\sqrt{n})$, assuming iid $U[0,1]$. Does the distribution matter?"
   ]
  },
  {
   "cell_type": "markdown",
   "metadata": {},
   "source": [
    "Solution: We simulate this proess in Python 3.5. The code can be seen in the next cell."
   ]
  },
  {
   "cell_type": "code",
   "execution_count": 56,
   "metadata": {
    "collapsed": false
   },
   "outputs": [
    {
     "name": "stdout",
     "output_type": "stream",
     "text": [
      "when n = 25, the simulation yields the probability 0.0008\n",
      "when n = 50, the simulation yields the probability 0.0006\n"
     ]
    }
   ],
   "source": [
    "import math\n",
    "import random\n",
    "n1 = 25;\n",
    "n2 = 50;\n",
    "N = 5000; # the number of experiment #\n",
    "n =[n1,n2];\n",
    "def main(n):\n",
    "    sequence = [];\n",
    "    for i in range(n):\n",
    "        sequence.append(random.uniform(-1.0,1.0));\n",
    "    sums = [sequence[0]];\n",
    "    for j in range(1,n):\n",
    "        sums.append(sums[j-1] + sequence[j])\n",
    "    right_hand_side = 2*math.sqrt(n)\n",
    "    if max(sums) > right_hand_side:\n",
    "        return True;\n",
    "    else:\n",
    "        return False;\n",
    "    \n",
    "def count(n,N):\n",
    "    results =[int(main(n)) for i in range(N)]\n",
    "    success = sum(results)\n",
    "    return success/(N+0.0)\n",
    "\n",
    "print (\"when n = 25, the simulation yields the probability\", count(n1, N))\n",
    "print (\"when n = 50, the simulation yields the probability\", count(n2, N))\n",
    "\n"
   ]
  },
  {
   "cell_type": "markdown",
   "metadata": {},
   "source": [
    "Based on above simulation, we conclude that when $n=25$ and $n=50$, the probabilit are $0.08\\%$ and $0.06\\%$, respectively."
   ]
  },
  {
   "cell_type": "code",
   "execution_count": null,
   "metadata": {
    "collapsed": true
   },
   "outputs": [],
   "source": []
  },
  {
   "cell_type": "code",
   "execution_count": 15,
   "metadata": {
    "collapsed": false
   },
   "outputs": [
    {
     "name": "stdout",
     "output_type": "stream",
     "text": [
      "[ 0.37293657]\n",
      "1\n"
     ]
    }
   ],
   "source": [
    "import numpy as np;\n",
    "a = np.random.exponential([1])\n",
    "print(a)\n",
    "print(len(a))"
   ]
  },
  {
   "cell_type": "code",
   "execution_count": null,
   "metadata": {
    "collapsed": true
   },
   "outputs": [],
   "source": []
  }
 ],
 "metadata": {
  "kernelspec": {
   "display_name": "Python 3",
   "language": "python",
   "name": "python3"
  },
  "language_info": {
   "codemirror_mode": {
    "name": "ipython",
    "version": 3
   },
   "file_extension": ".py",
   "mimetype": "text/x-python",
   "name": "python",
   "nbconvert_exporter": "python",
   "pygments_lexer": "ipython3",
   "version": "3.6.0"
  }
 },
 "nbformat": 4,
 "nbformat_minor": 2
}
